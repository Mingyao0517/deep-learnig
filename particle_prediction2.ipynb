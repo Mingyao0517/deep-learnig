{
 "cells": [
  {
   "cell_type": "markdown",
   "id": "963690b2",
   "metadata": {},
   "source": [
    "<a href=\"https://colab.research.google.com/github/vlamen/tue-deeplearning/blob/main/assignments/assignment_2_3/a3_skeleton.ipynb\" target=\"_parent\"><img src=\"https://colab.research.google.com/assets/colab-badge.svg\" alt=\"Open In Colab\"/></a>"
   ]
  },
  {
   "cell_type": "markdown",
   "id": "bd8459f1",
   "metadata": {},
   "source": [
    "\n",
    "\n",
    "\n",
    "\n",
    "# Student : Mingyao Zhao"
   ]
  },
  {
   "cell_type": "markdown",
   "id": "dde28458",
   "metadata": {},
   "source": [
    "# Downloading Data and Preliminaries"
   ]
  },
  {
   "cell_type": "code",
   "execution_count": 201,
   "id": "7d0580a5",
   "metadata": {
    "collapsed": true,
    "scrolled": true
   },
   "outputs": [],
   "source": [
    "import pickle\n",
    "import matplotlib.pyplot as plt\n",
    "import matplotlib\n",
    "import numpy as np\n",
    "import random\n",
    "from zipfile import ZipFile\n",
    "import requests\n",
    "import io\n",
    "\n",
    "\n",
    "import requests\n",
    "import io\n",
    "import torch\n",
    "import torch.nn as nn\n",
    "import torch.nn.functional as F\n",
    "import numpy as np\n",
    "from torch import optim\n",
    "import torch.nn.functional as F\n",
    "import os\n",
    "os.environ['KMP_DUPLICATE_LIB_OK']='True'"
   ]
  },
  {
   "cell_type": "code",
   "execution_count": 202,
   "id": "8ce00edc",
   "metadata": {
    "collapsed": true,
    "scrolled": true
   },
   "outputs": [],
   "source": [
    "def load_zip(url):\n",
    "    response = requests.get(url)\n",
    "    response.raise_for_status()\n",
    "    zipf = ZipFile(io.BytesIO(response.content))\n",
    "    return {name: zipf.read(name) for name in zipf.namelist()}\n",
    "\n",
    "def load_pickle(zipfile, fn):\n",
    "    return pickle.load(io.BytesIO(zipfile[fn]))"
   ]
  },
  {
   "cell_type": "code",
   "execution_count": 203,
   "id": "bb77a4be",
   "metadata": {
    "collapsed": true,
    "scrolled": true
   },
   "outputs": [],
   "source": [
    "data = load_zip('https://surfdrive.surf.nl/files/index.php/s/cwqGaS22KXgnXtg/download')\n",
    "\n",
    "    \n",
    "\"\"\"\n",
    "simulation_{train, valid, test} is stored as a list of simulations. \n",
    "Each simulation is a numpy array of size (t, 2): For t timesteps an x and y coordinate of our particle.\n",
    "\"\"\"\n",
    "simulation_train = load_pickle(data, 'data/train/simulation.pickle')  # 3.1 + 3.2\n",
    "simulation_valid = load_pickle(data, 'data/valid/simulation.pickle')  # 3.1 + 3.2\n",
    "simulation_test = load_pickle(data, 'data/test/simulation.pickle')  # 3.1 + 3.2\n",
    "\n",
    "\"\"\"\n",
    "charges_{train, valid, test} is stored as a list of simulation-charges. \n",
    "These charges are stored as numpy arrays of size (3,): One value for each charge.\n",
    "\"\"\"\n",
    "charges_train = load_pickle(data, 'data/train/charges.pickle')  # 3.1\n",
    "charges_valid = load_pickle(data, 'data/valid/charges.pickle')  # 3.1\n",
    "charges_test = load_pickle(data, 'data/test/charges.pickle')  # 3.1\n",
    "\n",
    "\"\"\"\n",
    "simulation_continued_{train, valid, test} is stored as a list of simulations. \n",
    "Each simulation is a numpy array of size (t, 2): For t timesteps an x and y coordinate of our particle.\n",
    "\"\"\"\n",
    "simulation_continued_train = load_pickle(data, 'data/train/simulation_continued.pickle')  # 3.2\n",
    "simulation_continued_valid = load_pickle(data, 'data/valid/simulation_continued.pickle')  # 3.2\n",
    "simulation_continued_test = load_pickle(data, 'data/test/simulation_continued.pickle')  # 3.2\n",
    "\n",
    "\"\"\"\n",
    "Note that the indices are shared throughout the different lists, e.g., for the 4th training simulation:\n",
    "simulation_train[3] contains its initial simulation\n",
    "charges_train[3] contains the charges associated with the simulation\n",
    "simulation_continued_train[3] contains the continuation of the simulation \n",
    "                --> simulation_continued_train[3][0] is the state after simulation_train[3][-1]\n",
    "\"\"\"\n",
    "pass"
   ]
  },
  {
   "cell_type": "code",
   "execution_count": 204,
   "id": "10a3438a",
   "metadata": {
    "collapsed": true,
    "scrolled": false
   },
   "outputs": [
    {
     "name": "stdout",
     "output_type": "stream",
     "text": [
      "Overview of no. datapoints:\n",
      "\n",
      "Task 3.1:\n",
      "800 train, 100 validation, 100 test simulations\n",
      "800 train, 100 validation, 100 test charge pairs\n",
      "\n",
      "Task 3.2:\n",
      "Since len(simulation_continued_train) < len(simulation_train), we can only use a subset of initial simulations\n",
      "We cut simulation_train down to the first 150 samples in simulation_train_task32\n",
      "150 train, 100 validation, 100 test simulations\n",
      "150 train, 100 validation, 100 test continuations\n",
      "\n",
      "For task 3.1, use:\n",
      "simulation_train + charges_train\n",
      "simulation_valid + charges_valid\n",
      "simulation_test + charges_test\n",
      "\n",
      "For task 3.2, use:\n",
      "simulation_train_task32 + simulation_continued_train\n",
      "simulation_valid + simulation_continued_valid\n",
      "simulation_test + simulation_continued_test\n",
      "\n"
     ]
    }
   ],
   "source": [
    "print('Overview of no. datapoints:\\n')\n",
    "\n",
    "print('Task 3.1:')\n",
    "print(f'{len(simulation_train)} train, {len(simulation_valid)} validation, {len(simulation_test)} test simulations')\n",
    "print(f'{len(charges_train)} train, {len(charges_valid)} validation, {len(charges_test)} test charge pairs')\n",
    "print()\n",
    "\n",
    "print('Task 3.2:')\n",
    "print('Since len(simulation_continued_train) < len(simulation_train), we can only use a subset of initial simulations')\n",
    "print('We cut simulation_train down to the first 150 samples in simulation_train_task32')\n",
    "simulation_train_task32 = simulation_train[:150]\n",
    "print(f'{len(simulation_train_task32)} train, {len(simulation_valid)} validation, {len(simulation_test)} test simulations')\n",
    "print(f'{len(simulation_continued_train)} train, {len(simulation_continued_valid)} validation, {len(simulation_continued_test)} test continuations')\n",
    "\n",
    "print(f\"\"\"\n",
    "For task 3.1, use:\n",
    "{chr(10).join([\"simulation_{} + charges_{}\".format(t, t) for t in [\"train\", \"valid\", \"test\"]])}\n",
    "\n",
    "For task 3.2, use:\n",
    "{chr(10).join([\"simulation_{} + simulation_continued_{}\".format(*((t[0], t[1]) if isinstance(t, tuple) else (t, t))) for t in [(\"train_task32\", \"train\"), \"valid\", \"test\"]])}\n",
    "\"\"\")\n"
   ]
  },
  {
   "cell_type": "code",
   "execution_count": 205,
   "id": "3cfafdb3",
   "metadata": {
    "collapsed": true,
    "scrolled": true
   },
   "outputs": [
    {
     "name": "stdout",
     "output_type": "stream",
     "text": [
      "Print some shapes:\n",
      "\n",
      "simulation_train[0].shape: (103, 2) -> (t, 2), (x, y) at every t)\n",
      "charges_train[0].shape: (3,) -> charges for the simulation\n",
      "simulation_continued_train[0].shape: (54, 2) -> (t, 2), (x, y) at every t)\n",
      "----\n",
      "\n",
      "simulation_train[1].shape: (97, 2) -> (t, 2), (x, y) at every t)\n",
      "charges_train[1].shape: (3,) -> charges for the simulation\n",
      "simulation_continued_train[1].shape: (45, 2) -> (t, 2), (x, y) at every t)\n",
      "----\n",
      "\n",
      "simulation_train[2].shape: (99, 2) -> (t, 2), (x, y) at every t)\n",
      "charges_train[2].shape: (3,) -> charges for the simulation\n",
      "simulation_continued_train[2].shape: (47, 2) -> (t, 2), (x, y) at every t)\n",
      "----\n",
      "\n"
     ]
    }
   ],
   "source": [
    "print('Print some shapes:\\n')\n",
    "for i in range(3):\n",
    "    print('simulation_train[{}].shape:'.format(i), simulation_train[i].shape, '-> (t, 2), (x, y) at every t)')\n",
    "    print('charges_train[{}].shape:'.format(i), charges_train[i].shape, '-> charges for the simulation')\n",
    "    print('simulation_continued_train[{}].shape:'.format(i), simulation_continued_train[i].shape, '-> (t, 2), (x, y) at every t)')\n",
    "    print('----\\n')"
   ]
  },
  {
   "cell_type": "code",
   "execution_count": 206,
   "id": "f9106543",
   "metadata": {
    "collapsed": true,
    "scrolled": true
   },
   "outputs": [],
   "source": [
    "def plot_example(x, x_gt=None, x_pred=None, fn=None):\n",
    "    charge_locations = np.array([[-1.53846154, -1.53846154],\n",
    "                                 [ 1.53846154, -1.53846154],\n",
    "                                 [ 0.        ,  1.53846154]])  # charge locations are fixed\n",
    "    fig = plt.figure()\n",
    "    axes = plt.gca()\n",
    "    axes.set_xlim([-5., 5.])\n",
    "    axes.set_ylim([-5., 5.])\n",
    "    cmap = matplotlib.cm.get_cmap('tab20')\n",
    "    plt.plot(x[:, 0], x[:, 1], color=cmap(0))\n",
    "    plt.plot(x[0, 0], x[0, 1], 'd', color=cmap(1))\n",
    "    fig.set_size_inches(5, 5)\n",
    "    for charge in charge_locations:\n",
    "        plt.plot(charge[0], charge[1], 'd', color='black')\n",
    "    if x_gt is not None:\n",
    "        plt.plot(x_gt[:, 0], x_gt[:, 1], color='red', linewidth=.5)\n",
    "    if x_pred is not None:\n",
    "        plt.plot(x_pred[:, 0], x_pred[:, 1], color='green', linestyle='--')\n",
    "    if fn is None:\n",
    "        plt.show()\n",
    "    else:\n",
    "        plt.savefig(fn)"
   ]
  },
  {
   "cell_type": "code",
   "execution_count": 207,
   "id": "d28681a6",
   "metadata": {
    "scrolled": true
   },
   "outputs": [
    {
     "data": {
      "image/png": "[encoded data removed]",
      "text/plain": [
       "<Figure size 360x360 with 1 Axes>"
      ]
     },
     "metadata": {
      "needs_background": "light"
     },
     "output_type": "display_data"
    },
    {
     "name": "stdout",
     "output_type": "stream",
     "text": [
      "Charges are [-0.47654504 -0.04066623 -0.23762136]\n"
     ]
    }
   ],
   "source": [
    "test_idx = np.random.randint(150)\n",
    "plot_example(simulation_train[test_idx], simulation_continued_train[test_idx])\n",
    "print(f'Charges are {charges_train[test_idx]}')"
   ]
  },
  {
   "cell_type": "markdown",
   "id": "883762b1",
   "metadata": {},
   "source": [
    "# Task 3.1"
   ]
  },
  {
   "cell_type": "markdown",
   "id": "4c1ddabe",
   "metadata": {},
   "source": [
    "## Data Handling and Preprocessing"
   ]
  },
  {
   "cell_type": "code",
   "execution_count": 208,
   "id": "bd9df856",
   "metadata": {
    "collapsed": true,
    "scrolled": true
   },
   "outputs": [],
   "source": [
    "#todo\n",
    "import requests\n",
    "import io\n",
    "import torch\n",
    "import torch.nn as nn\n",
    "import torch.nn.functional as F\n",
    "import numpy as np\n",
    "from torch import optim\n",
    "import torch.nn.functional as F\n",
    "# import matplotlib as plt\n",
    "import torch\n",
    "from torchvision import transforms\n",
    "from torch.utils.data import Dataset, DataLoader,TensorDataset\n",
    "import numpy as np\n",
    "from PIL import Image\n",
    "from torch.nn.utils.rnn import pad_sequence\n",
    "from torch.nn.utils.rnn import pack_padded_sequence\n"
   ]
  },
  {
   "cell_type": "code",
   "execution_count": 209,
   "id": "de90ab3a",
   "metadata": {
    "collapsed": true,
    "scrolled": true
   },
   "outputs": [],
   "source": [
    "#transfer the coordinate into x1,x2,....y1,y2,....\n",
    "def datahandling(data):\n",
    "    result=[]\n",
    "    for i in range(len(data)):\n",
    "        a=data[i]\n",
    "        x=a[:,0]\n",
    "        y=a[:,1]\n",
    "        result.append(np.hstack((x,y)))\n",
    "    return result"
   ]
  },
  {
   "cell_type": "code",
   "execution_count": 210,
   "id": "2ed43e15",
   "metadata": {
    "collapsed": true,
    "scrolled": true
   },
   "outputs": [],
   "source": [
    "#padding all the dataset into the same length   x1,x2,..x110,y1,y2,...y110  (110*2=220)\n",
    "def create_padding(data):\n",
    "    result=datahandling(data)\n",
    "    pad_result=pad_sequence([torch.from_numpy(x) for x in result]).transpose(0,1)\n",
    "    return pad_result\n",
    "\n"
   ]
  },
  {
   "cell_type": "code",
   "execution_count": 211,
   "id": "d5cedf20",
   "metadata": {
    "collapsed": true,
    "scrolled": true
   },
   "outputs": [],
   "source": [
    "train_padding_1=create_padding(simulation_train)\n",
    "valid_padding_1=create_padding(simulation_valid)\n",
    "test_padding_1=create_padding(simulation_test)\n"
   ]
  },
  {
   "cell_type": "code",
   "execution_count": 212,
   "id": "7dd9b7c1",
   "metadata": {
    "scrolled": true
   },
   "outputs": [
    {
     "name": "stderr",
     "output_type": "stream",
     "text": [
      "C:\\Users\\15651\\AppData\\Local\\Temp/ipykernel_17084/1325479867.py:5: UserWarning: To copy construct from a tensor, it is recommended to use sourceTensor.clone().detach() or sourceTensor.clone().detach().requires_grad_(True), rather than torch.tensor(sourceTensor).\n",
      "  self.data = torch.tensor(data)\n"
     ]
    }
   ],
   "source": [
    "#加载数据集\n",
    "\n",
    "class MyDataset(Dataset):\n",
    "    def __init__(self, data, targets):\n",
    "        self.data = torch.tensor(data)\n",
    "        self.targets = torch.tensor(targets)\n",
    "           \n",
    "    def __len__(self):\n",
    "        return len(self.data)\n",
    "        \n",
    "    def __getitem__(self, index):  # get the label and data by index\n",
    "        x = self.data[index]\n",
    "        y = self.targets[index]\n",
    "        return x, y\n",
    "\n",
    "    \n",
    "train_dataset_1=MyDataset(train_padding_1,charges_train)\n",
    "valid_dataset_1=MyDataset(valid_padding_1,charges_valid)\n",
    "test_dataset_1=MyDataset(test_padding_1,charges_valid)\n",
    "    \n",
    "# train_dataset_1=MyDataset(simulation_train,charges_train)\n",
    "# valid_dataset_1=MyDataset(simulation_valid,charges_valid)\n",
    "# test_dataset_1=MyDataset(simulation_test,charges_test)"
   ]
  },
  {
   "cell_type": "markdown",
   "id": "cc8853f6",
   "metadata": {},
   "source": [
    "## Model Implementation"
   ]
  },
  {
   "cell_type": "code",
   "execution_count": 213,
   "id": "8794a0cf",
   "metadata": {
    "collapsed": true,
    "scrolled": true
   },
   "outputs": [],
   "source": [
    "#todo\n",
    "if torch.cuda.is_available():\n",
    "    device = torch.device('cuda')\n",
    "else:\n",
    "    device=torch.device('cpu')"
   ]
  },
  {
   "cell_type": "code",
   "execution_count": 214,
   "id": "d62b5aa6",
   "metadata": {
    "collapsed": true,
    "scrolled": true
   },
   "outputs": [],
   "source": [
    "import torch\n",
    "from torch import nn\n",
    "import torch.nn.functional as F\n",
    "from torch.autograd import Variable\n",
    "input_dim=220\n",
    "hidden_dim=500\n",
    "n_layers=2\n",
    "output_dim=3\n",
    "drop_prob=0.5\n",
    "\n",
    "\n",
    "class Mynetwork_1(nn.Module):\n",
    "    \n",
    "    def __init__(self, n_input=input_dim, n_hidden=hidden_dim, num_layers=n_layers, n_output=output_dim, drop_prob=drop_prob):\n",
    "        super(Mynetwork_1, self).__init__()\n",
    "        \n",
    "        self.num_layers = num_layers\n",
    "        self.n_hidden = n_hidden\n",
    "        self.drop_prob = drop_prob\n",
    "        self.n_input = n_input\n",
    "        \n",
    "        self.lstm = nn.LSTM(input_size=n_input, hidden_size=n_hidden, num_layers=num_layers, dropout=self.drop_prob)\n",
    "        self.fc = nn.Linear(n_hidden, n_output)\n",
    "        self.dropout = nn.Dropout(drop_prob)\n",
    "\n",
    "    def forward(self, x):\n",
    "        # Set initial hidden and cell states \n",
    "        x = x.to(device)\n",
    "        h0 = torch.zeros(self.num_layers, x.size(1), self.n_hidden).to(device) \n",
    "        c0 = torch.zeros(self.num_layers, x.size(1), self.n_hidden).to(device) \n",
    "\n",
    "        # Forward propagate LSTM\n",
    "        # input=pack_padded_sequence(x,lengths=length,batch_first=True,enforce_sorted=False)\n",
    "        out, _ = self.lstm(x,(h0,c0))  \n",
    "        \n",
    "        out = self.dropout(out)\n",
    "        # Decode the hidden state of the last time step\n",
    "        # out = self.fc(out[:, -1])  # (100, 10)\n",
    "        \n",
    "        out = self.fc(out)\n",
    "        return out"
   ]
  },
  {
   "cell_type": "markdown",
   "id": "0e443b7f",
   "metadata": {},
   "source": [
    "## Model Training"
   ]
  },
  {
   "cell_type": "code",
   "execution_count": 215,
   "id": "58348edd",
   "metadata": {
    "collapsed": true,
    "scrolled": true
   },
   "outputs": [],
   "source": [
    "\n",
    "def train1(model, num_epochs, loss_fuc,Batchsize):\n",
    "    \"\"\"\n",
    "    Train the model.\n",
    "    \"\"\"\n",
    "    train_losses = []\n",
    "    val_losses = []\n",
    "    for epoch in range(num_epochs):\n",
    "        train_loader_1 = torch.utils.data.DataLoader(train_dataset_1 ,batch_size=Batchsize)\n",
    "        valid_loader_1 = torch.utils.data.DataLoader(valid_dataset_1 ,batch_size=Batchsize)\n",
    "        running_loss = 0.0\n",
    "        model.train()\n",
    "        print(\"Starting epoch \" + str(epoch+1))\n",
    "        for (features, labels) in train_loader_1:\n",
    "            # Forward\n",
    "            (features, labels) = (features.to(device), labels.to(device))\n",
    "            # print('label:',labels.shape)\n",
    "            # [100,1,220] 100:batchsize, [1,220] input dim\n",
    "            # length=length_nonzero(features)\n",
    "            features = features.float().reshape(-1, 1, 220).to(device)\n",
    "            labels = labels.float().reshape(-1, 1, 3).to(device)\n",
    "            # print('feature type:',features.dtype)\n",
    "            # print('label type:',labels.dtype)\n",
    "            # print('reshape label:',labels.shape)\n",
    "\n",
    "            pred = model(features)\n",
    "            #[100,1,3] 100: batch size [1,3] output dim\n",
    "            # print('predshape:',pred.shape)\n",
    "            loss = loss_fuc(pred, labels)\n",
    "            # Backward and optimize\n",
    "            optimizer.zero_grad()\n",
    "            loss.backward()\n",
    "            optimizer.step()\n",
    "            running_loss += loss.item()\n",
    "\n",
    "        avg_train_loss = running_loss / len(train_loader_1)\n",
    "        train_losses.append(avg_train_loss)\n",
    "\n",
    "        val_running_loss = 0.0\n",
    "\n",
    "        # check validation loss after every epoch\n",
    "        with torch.no_grad():\n",
    "            model.eval()\n",
    "            for (features, labels) in valid_loader_1:\n",
    "                (features, labels) = (features.to(device), labels.to(device))\n",
    "                # length=length_nonzero(features)\n",
    "                features = features.float().reshape(-1, 1, 220).to(device)\n",
    "                labels = labels.float().reshape(-1, 1, 3).to(device)\n",
    "                #labels.float()\n",
    "                pred = model(features)\n",
    "                #print(pred)\n",
    "                loss = loss_fuc(pred, labels)\n",
    "                val_running_loss += loss.item()\n",
    "        avg_val_loss = val_running_loss / len(valid_loader_1)\n",
    "        val_losses.append(avg_val_loss)\n",
    "\n",
    "        print('Epoch [{}/{}],Train Loss: {:.4f}, Valid Loss: {:.8f}'\n",
    "              .format(epoch+1, num_epochs, avg_train_loss, avg_val_loss))\n",
    "    print(\"Finished Training\")\n",
    "    return train_losses, val_losses\n"
   ]
  },
  {
   "cell_type": "code",
   "execution_count": 216,
   "id": "176b3ea3",
   "metadata": {
    "collapsed": true,
    "scrolled": true
   },
   "outputs": [
    {
     "name": "stdout",
     "output_type": "stream",
     "text": [
      "Starting epoch 1\n",
      "Epoch [1/100],Train Loss: 1.7504, Valid Loss: 0.17623167\n",
      "Starting epoch 2\n",
      "Epoch [2/100],Train Loss: 0.1251, Valid Loss: 0.06832485\n",
      "Starting epoch 3\n",
      "Epoch [3/100],Train Loss: 0.0916, Valid Loss: 0.06533844\n",
      "Starting epoch 4\n",
      "Epoch [4/100],Train Loss: 0.0812, Valid Loss: 0.06829657\n",
      "Starting epoch 5\n",
      "Epoch [5/100],Train Loss: 0.0700, Valid Loss: 0.05173795\n",
      "Starting epoch 6\n",
      "Epoch [6/100],Train Loss: 0.0593, Valid Loss: 0.04682942\n",
      "Starting epoch 7\n",
      "Epoch [7/100],Train Loss: 0.0533, Valid Loss: 0.04963377\n",
      "Starting epoch 8\n",
      "Epoch [8/100],Train Loss: 0.0506, Valid Loss: 0.04344605\n",
      "Starting epoch 9\n",
      "Epoch [9/100],Train Loss: 0.0466, Valid Loss: 0.04325556\n",
      "Starting epoch 10\n",
      "Epoch [10/100],Train Loss: 0.0457, Valid Loss: 0.04440101\n",
      "Starting epoch 11\n",
      "Epoch [11/100],Train Loss: 0.0388, Valid Loss: 0.03842678\n",
      "Starting epoch 12\n",
      "Epoch [12/100],Train Loss: 0.0387, Valid Loss: 0.03793798\n",
      "Starting epoch 13\n",
      "Epoch [13/100],Train Loss: 0.0379, Valid Loss: 0.03744003\n",
      "Starting epoch 14\n",
      "Epoch [14/100],Train Loss: 0.0358, Valid Loss: 0.03901036\n",
      "Starting epoch 15\n",
      "Epoch [15/100],Train Loss: 0.0339, Valid Loss: 0.03339740\n",
      "Starting epoch 16\n",
      "Epoch [16/100],Train Loss: 0.0302, Valid Loss: 0.03127153\n",
      "Starting epoch 17\n",
      "Epoch [17/100],Train Loss: 0.0297, Valid Loss: 0.03033328\n",
      "Starting epoch 18\n",
      "Epoch [18/100],Train Loss: 0.0287, Valid Loss: 0.03019163\n",
      "Starting epoch 19\n",
      "Epoch [19/100],Train Loss: 0.0296, Valid Loss: 0.02922313\n",
      "Starting epoch 20\n",
      "Epoch [20/100],Train Loss: 0.0280, Valid Loss: 0.02981151\n",
      "Starting epoch 21\n",
      "Epoch [21/100],Train Loss: 0.0266, Valid Loss: 0.02767301\n",
      "Starting epoch 22\n",
      "Epoch [22/100],Train Loss: 0.0252, Valid Loss: 0.02708101\n",
      "Starting epoch 23\n",
      "Epoch [23/100],Train Loss: 0.0248, Valid Loss: 0.02884638\n",
      "Starting epoch 24\n",
      "Epoch [24/100],Train Loss: 0.0233, Valid Loss: 0.02726567\n",
      "Starting epoch 25\n",
      "Epoch [25/100],Train Loss: 0.0233, Valid Loss: 0.02539716\n",
      "Starting epoch 26\n",
      "Epoch [26/100],Train Loss: 0.0234, Valid Loss: 0.02719020\n",
      "Starting epoch 27\n",
      "Epoch [27/100],Train Loss: 0.0233, Valid Loss: 0.02800065\n",
      "Starting epoch 28\n",
      "Epoch [28/100],Train Loss: 0.0209, Valid Loss: 0.02974707\n",
      "Starting epoch 29\n",
      "Epoch [29/100],Train Loss: 0.0206, Valid Loss: 0.02811138\n",
      "Starting epoch 30\n",
      "Epoch [30/100],Train Loss: 0.0206, Valid Loss: 0.02620953\n",
      "Starting epoch 31\n",
      "Epoch [31/100],Train Loss: 0.0196, Valid Loss: 0.02569352\n",
      "Starting epoch 32\n",
      "Epoch [32/100],Train Loss: 0.0206, Valid Loss: 0.02643923\n",
      "Starting epoch 33\n",
      "Epoch [33/100],Train Loss: 0.0186, Valid Loss: 0.02456197\n",
      "Starting epoch 34\n",
      "Epoch [34/100],Train Loss: 0.0187, Valid Loss: 0.02380645\n",
      "Starting epoch 35\n",
      "Epoch [35/100],Train Loss: 0.0182, Valid Loss: 0.02314668\n",
      "Starting epoch 36\n",
      "Epoch [36/100],Train Loss: 0.0176, Valid Loss: 0.02186746\n",
      "Starting epoch 37\n",
      "Epoch [37/100],Train Loss: 0.0169, Valid Loss: 0.02513986\n",
      "Starting epoch 38\n",
      "Epoch [38/100],Train Loss: 0.0175, Valid Loss: 0.02453700\n",
      "Starting epoch 39\n",
      "Epoch [39/100],Train Loss: 0.0173, Valid Loss: 0.02254003\n",
      "Starting epoch 40\n",
      "Epoch [40/100],Train Loss: 0.0170, Valid Loss: 0.02189108\n",
      "Starting epoch 41\n",
      "Epoch [41/100],Train Loss: 0.0163, Valid Loss: 0.02224296\n",
      "Starting epoch 42\n",
      "Epoch [42/100],Train Loss: 0.0164, Valid Loss: 0.02321702\n",
      "Starting epoch 43\n",
      "Epoch [43/100],Train Loss: 0.0153, Valid Loss: 0.02490907\n",
      "Starting epoch 44\n",
      "Epoch [44/100],Train Loss: 0.0155, Valid Loss: 0.02296532\n",
      "Starting epoch 45\n",
      "Epoch [45/100],Train Loss: 0.0157, Valid Loss: 0.02234668\n",
      "Starting epoch 46\n",
      "Epoch [46/100],Train Loss: 0.0155, Valid Loss: 0.02152891\n",
      "Starting epoch 47\n",
      "Epoch [47/100],Train Loss: 0.0156, Valid Loss: 0.02316888\n",
      "Starting epoch 48\n",
      "Epoch [48/100],Train Loss: 0.0155, Valid Loss: 0.02228148\n",
      "Starting epoch 49\n",
      "Epoch [49/100],Train Loss: 0.0148, Valid Loss: 0.02089673\n",
      "Starting epoch 50\n",
      "Epoch [50/100],Train Loss: 0.0138, Valid Loss: 0.02265109\n",
      "Starting epoch 51\n",
      "Epoch [51/100],Train Loss: 0.0145, Valid Loss: 0.02375686\n",
      "Starting epoch 52\n",
      "Epoch [52/100],Train Loss: 0.0149, Valid Loss: 0.02571741\n",
      "Starting epoch 53\n",
      "Epoch [53/100],Train Loss: 0.0146, Valid Loss: 0.02200618\n",
      "Starting epoch 54\n",
      "Epoch [54/100],Train Loss: 0.0145, Valid Loss: 0.02143761\n",
      "Starting epoch 55\n",
      "Epoch [55/100],Train Loss: 0.0146, Valid Loss: 0.02149710\n",
      "Starting epoch 56\n",
      "Epoch [56/100],Train Loss: 0.0143, Valid Loss: 0.02057332\n",
      "Starting epoch 57\n",
      "Epoch [57/100],Train Loss: 0.0150, Valid Loss: 0.02237172\n",
      "Starting epoch 58\n",
      "Epoch [58/100],Train Loss: 0.0139, Valid Loss: 0.02272581\n",
      "Starting epoch 59\n",
      "Epoch [59/100],Train Loss: 0.0131, Valid Loss: 0.02146910\n",
      "Starting epoch 60\n",
      "Epoch [60/100],Train Loss: 0.0132, Valid Loss: 0.02168135\n",
      "Starting epoch 61\n",
      "Epoch [61/100],Train Loss: 0.0129, Valid Loss: 0.02069170\n",
      "Starting epoch 62\n",
      "Epoch [62/100],Train Loss: 0.0130, Valid Loss: 0.02139201\n",
      "Starting epoch 63\n",
      "Epoch [63/100],Train Loss: 0.0128, Valid Loss: 0.02120578\n",
      "Starting epoch 64\n",
      "Epoch [64/100],Train Loss: 0.0119, Valid Loss: 0.02060016\n",
      "Starting epoch 65\n",
      "Epoch [65/100],Train Loss: 0.0121, Valid Loss: 0.02051491\n",
      "Starting epoch 66\n",
      "Epoch [66/100],Train Loss: 0.0113, Valid Loss: 0.02131287\n",
      "Starting epoch 67\n",
      "Epoch [67/100],Train Loss: 0.0119, Valid Loss: 0.02147108\n",
      "Starting epoch 68\n",
      "Epoch [68/100],Train Loss: 0.0122, Valid Loss: 0.01933612\n",
      "Starting epoch 69\n",
      "Epoch [69/100],Train Loss: 0.0109, Valid Loss: 0.02070303\n",
      "Starting epoch 70\n",
      "Epoch [70/100],Train Loss: 0.0108, Valid Loss: 0.02115882\n",
      "Starting epoch 71\n",
      "Epoch [71/100],Train Loss: 0.0118, Valid Loss: 0.01925601\n",
      "Starting epoch 72\n",
      "Epoch [72/100],Train Loss: 0.0115, Valid Loss: 0.01886171\n",
      "Starting epoch 73\n",
      "Epoch [73/100],Train Loss: 0.0114, Valid Loss: 0.01952382\n",
      "Starting epoch 74\n",
      "Epoch [74/100],Train Loss: 0.0108, Valid Loss: 0.01945690\n",
      "Starting epoch 75\n",
      "Epoch [75/100],Train Loss: 0.0101, Valid Loss: 0.02061045\n",
      "Starting epoch 76\n",
      "Epoch [76/100],Train Loss: 0.0112, Valid Loss: 0.01931323\n",
      "Starting epoch 77\n",
      "Epoch [77/100],Train Loss: 0.0102, Valid Loss: 0.01892192\n",
      "Starting epoch 78\n",
      "Epoch [78/100],Train Loss: 0.0112, Valid Loss: 0.01896216\n",
      "Starting epoch 79\n",
      "Epoch [79/100],Train Loss: 0.0107, Valid Loss: 0.02050809\n",
      "Starting epoch 80\n",
      "Epoch [80/100],Train Loss: 0.0103, Valid Loss: 0.01988953\n",
      "Starting epoch 81\n",
      "Epoch [81/100],Train Loss: 0.0102, Valid Loss: 0.01862268\n",
      "Starting epoch 82\n",
      "Epoch [82/100],Train Loss: 0.0106, Valid Loss: 0.01938444\n",
      "Starting epoch 83\n",
      "Epoch [83/100],Train Loss: 0.0094, Valid Loss: 0.02150245\n",
      "Starting epoch 84\n",
      "Epoch [84/100],Train Loss: 0.0102, Valid Loss: 0.02059700\n",
      "Starting epoch 85\n",
      "Epoch [85/100],Train Loss: 0.0105, Valid Loss: 0.01976382\n",
      "Starting epoch 86\n",
      "Epoch [86/100],Train Loss: 0.0101, Valid Loss: 0.01987206\n",
      "Starting epoch 87\n",
      "Epoch [87/100],Train Loss: 0.0106, Valid Loss: 0.01891085\n",
      "Starting epoch 88\n",
      "Epoch [88/100],Train Loss: 0.0096, Valid Loss: 0.01876805\n",
      "Starting epoch 89\n",
      "Epoch [89/100],Train Loss: 0.0099, Valid Loss: 0.02068093\n",
      "Starting epoch 90\n",
      "Epoch [90/100],Train Loss: 0.0094, Valid Loss: 0.01942164\n",
      "Starting epoch 91\n",
      "Epoch [91/100],Train Loss: 0.0102, Valid Loss: 0.01834252\n",
      "Starting epoch 92\n",
      "Epoch [92/100],Train Loss: 0.0093, Valid Loss: 0.01868560\n",
      "Starting epoch 93\n",
      "Epoch [93/100],Train Loss: 0.0090, Valid Loss: 0.01981233\n",
      "Starting epoch 94\n",
      "Epoch [94/100],Train Loss: 0.0088, Valid Loss: 0.01881397\n",
      "Starting epoch 95\n",
      "Epoch [95/100],Train Loss: 0.0092, Valid Loss: 0.01910907\n",
      "Starting epoch 96\n",
      "Epoch [96/100],Train Loss: 0.0093, Valid Loss: 0.02030721\n",
      "Starting epoch 97\n",
      "Epoch [97/100],Train Loss: 0.0093, Valid Loss: 0.01975205\n",
      "Starting epoch 98\n",
      "Epoch [98/100],Train Loss: 0.0085, Valid Loss: 0.01755116\n",
      "Starting epoch 99\n",
      "Epoch [99/100],Train Loss: 0.0090, Valid Loss: 0.01871845\n",
      "Starting epoch 100\n",
      "Epoch [100/100],Train Loss: 0.0090, Valid Loss: 0.01938185\n",
      "Finished Training\n"
     ]
    }
   ],
   "source": [
    "model1= Mynetwork_1().to(device)\n",
    "Batchsize=100\n",
    "epochs=100\n",
    "Loss= nn.MSELoss()\n",
    "optimizer = torch.optim.Adam(model1.parameters(), lr=0.01)\n",
    "train_losses1,val_losses1=train1(model=model1,num_epochs=epochs,loss_fuc=Loss,Batchsize=Batchsize)"
   ]
  },
  {
   "cell_type": "code",
   "execution_count": 217,
   "id": "cf8d747c",
   "metadata": {
    "collapsed": true,
    "scrolled": true
   },
   "outputs": [],
   "source": [
    "def plot_loss(train_loss, val_loss,epoche):\n",
    "    \"\"\"\n",
    "    plot the loss change during the training precedure\n",
    "    \"\"\"\n",
    "    plt.title(\"Train and validation loss\")\n",
    "    plt.xlabel(\"epoch\")\n",
    "    plt.ylabel(\"loss\")\n",
    "    epoche_range=[i+1 for i in range(epoche)]\n",
    "    plt.plot(epoche_range, train_loss)\n",
    "    plt.plot(epoche_range, val_loss)\n",
    "    plt.legend(['train loss', 'validation loss'], loc='best')\n",
    "    plt.show()"
   ]
  },
  {
   "cell_type": "code",
   "execution_count": 218,
   "id": "4a007157",
   "metadata": {
    "scrolled": true
   },
   "outputs": [
    {
     "data": {
      "image/png": "[encoded data removed]",
      "text/plain": [
       "<Figure size 432x288 with 1 Axes>"
      ]
     },
     "metadata": {
      "needs_background": "light"
     },
     "output_type": "display_data"
    }
   ],
   "source": [
    "plot_loss(train_loss=train_losses1,val_loss=val_losses1,epoche=epochs)"
   ]
  },
  {
   "cell_type": "markdown",
   "id": "da139d5b",
   "metadata": {},
   "source": [
    "## Evaluation"
   ]
  },
  {
   "cell_type": "code",
   "execution_count": 289,
   "id": "ca7000c2",
   "metadata": {
    "scrolled": true
   },
   "outputs": [],
   "source": [
    "def evaluate1(dataset):\n",
    "    test_feature=dataset.data.reshape(-1,1,220)\n",
    "    test_label=dataset.targets.reshape(-1,1,3)\n",
    "    result=model1(test_feature.float())\n",
    "    test_loss=[]\n",
    "    for i in range(len(test_label)):\n",
    "        test_loss.append(Loss(test_label[i],result[i]).tolist())\n",
    "    return np.mean(test_loss),result,test_label\n"
   ]
  },
  {
   "cell_type": "code",
   "execution_count": 290,
   "id": "29b414cf",
   "metadata": {
    "scrolled": true
   },
   "outputs": [],
   "source": [
    "loss,result,test_label = evaluate1(test_dataset_1)"
   ]
  },
  {
   "cell_type": "code",
   "execution_count": 319,
   "id": "05875ead",
   "metadata": {},
   "outputs": [
    {
     "name": "stdout",
     "output_type": "stream",
     "text": [
      "rmse: 0.15157932882161376\n",
      "mae: 0.3165559577823355\n"
     ]
    }
   ],
   "source": [
    "def evaluate(result,test_label):\n",
    "    RMSE = []\n",
    "    mae = []\n",
    "    for i in range(100):\n",
    "        x = result[i][0].detach().numpy()\n",
    "        y = test_label[i][0].detach().numpy()\n",
    "        mae.append(np.abs(x - y))\n",
    "        diff = np.subtract(x,y)\n",
    "        square = np.square(diff)\n",
    "        RMSE.append(square)\n",
    "    print('rmse:',sum(sum(RMSE)/len(RMSE))/3)\n",
    "    print('mae:',sum(sum(mae)/len(mae))/3)\n",
    "evaluate(result,test_label)"
   ]
  },
  {
   "cell_type": "markdown",
   "id": "9a59808b",
   "metadata": {},
   "source": [
    "# Task 3.2"
   ]
  },
  {
   "cell_type": "markdown",
   "id": "f64a855d",
   "metadata": {},
   "source": [
    "## Data Handling and Preprocessing"
   ]
  },
  {
   "cell_type": "code",
   "execution_count": 21,
   "id": "0ec19a8d",
   "metadata": {
    "scrolled": false
   },
   "outputs": [
    {
     "name": "stderr",
     "output_type": "stream",
     "text": [
      "C:\\Users\\15651\\AppData\\Local\\Temp/ipykernel_17084/1325479867.py:5: UserWarning: To copy construct from a tensor, it is recommended to use sourceTensor.clone().detach() or sourceTensor.clone().detach().requires_grad_(True), rather than torch.tensor(sourceTensor).\n",
      "  self.data = torch.tensor(data)\n",
      "C:\\Users\\15651\\AppData\\Local\\Temp/ipykernel_17084/1325479867.py:6: UserWarning: To copy construct from a tensor, it is recommended to use sourceTensor.clone().detach() or sourceTensor.clone().detach().requires_grad_(True), rather than torch.tensor(sourceTensor).\n",
      "  self.targets = torch.tensor(targets)\n"
     ]
    }
   ],
   "source": [
    "# we reuse the function we defined before\n",
    "#feature padding to 220\n",
    "train_padding_2=create_padding(simulation_train_task32)\n",
    "valid_padding_2=create_padding(simulation_valid)\n",
    "test_padding_2=create_padding(simulation_test)\n",
    "\n",
    "#label  padding the feature into 120\n",
    "continue_train_padding=create_padding(simulation_continued_train)\n",
    "continue_valid_padding=create_padding(simulation_continued_valid)\n",
    "continue_test_padding=create_padding(simulation_continued_test)\n",
    "\n",
    "\n",
    "train_dataset_2=MyDataset(train_padding_2,continue_train_padding)\n",
    "valid_dataset_2=MyDataset(valid_padding_2,continue_valid_padding)\n",
    "test_dataset_2=MyDataset(test_padding_2,continue_test_padding)"
   ]
  },
  {
   "cell_type": "markdown",
   "id": "867aabb3",
   "metadata": {},
   "source": [
    "## Model Implementation"
   ]
  },
  {
   "cell_type": "code",
   "execution_count": 22,
   "id": "36fe2739",
   "metadata": {
    "scrolled": false
   },
   "outputs": [],
   "source": [
    "#todo"
   ]
  },
  {
   "cell_type": "code",
   "execution_count": 23,
   "id": "f80b1ca2",
   "metadata": {
    "scrolled": false
   },
   "outputs": [],
   "source": [
    "import torch\n",
    "from torch import nn\n",
    "import torch.nn.functional as F\n",
    "from torch.autograd import Variable\n",
    "input_dim=220\n",
    "hidden_dim=400  \n",
    "n_layers=2\n",
    "output_dim=120\n",
    "drop_prob=0.5\n",
    "\n",
    "\n",
    "class Mynetwork_2(nn.Module):\n",
    "    \n",
    "    def __init__(self, n_input=input_dim, n_hidden=hidden_dim, num_layers=n_layers, n_output=output_dim, drop_prob=drop_prob):\n",
    "        super(Mynetwork_2, self).__init__()\n",
    "        \n",
    "        self.num_layers = num_layers\n",
    "        self.n_hidden = n_hidden\n",
    "        self.drop_prob = drop_prob\n",
    "        self.n_input = n_input\n",
    "        \n",
    "        self.lstm = nn.LSTM(input_size=n_input, hidden_size=n_hidden, num_layers=num_layers, dropout=self.drop_prob)\n",
    "        self.fc = nn.Linear(n_hidden, n_output)\n",
    "        self.dropout = nn.Dropout(drop_prob)\n",
    "\n",
    "    def forward(self, x):\n",
    "        # Set initial hidden and cell states \n",
    "        x = x.to(device)\n",
    "        h0 = torch.zeros(self.num_layers, x.size(1), self.n_hidden).to(device) \n",
    "        c0 = torch.zeros(self.num_layers, x.size(1), self.n_hidden).to(device) \n",
    "\n",
    "        # Forward propagate LSTM\n",
    "        out, _ = self.lstm(x, (h0, c0))  \n",
    "        out = self.dropout(out)\n",
    "        out = self.fc(out)\n",
    "        return out"
   ]
  },
  {
   "cell_type": "markdown",
   "id": "826fae3f",
   "metadata": {},
   "source": [
    "## Model Training"
   ]
  },
  {
   "cell_type": "code",
   "execution_count": 24,
   "id": "0f9640b1",
   "metadata": {
    "scrolled": false
   },
   "outputs": [],
   "source": [
    "# attention \n",
    "def mask(input):\n",
    "    inputs=input.clone()\n",
    "    result=[]\n",
    "    for i in range(len(inputs)):\n",
    "        index=inputs.data[i].nonzero()\n",
    "        dataset=inputs.data[i]\n",
    "        dataset[index]=1\n",
    "        result.append(dataset)\n",
    "    return torch.stack(result,0) "
   ]
  },
  {
   "cell_type": "code",
   "execution_count": 26,
   "id": "90ed50b7",
   "metadata": {
    "scrolled": false
   },
   "outputs": [],
   "source": [
    "\n",
    "def train2(model, num_epochs, loss_fuc,Batchsize):\n",
    "    \"\"\"\n",
    "    Train the model.\n",
    "    \"\"\"\n",
    "    train_losses = []\n",
    "    val_losses = []\n",
    "    for epoch in range(num_epochs):\n",
    "        train_loader_2 = torch.utils.data.DataLoader(train_dataset_2 ,batch_size=Batchsize)\n",
    "        valid_loader_2 = torch.utils.data.DataLoader(valid_dataset_2 ,batch_size=Batchsize)\n",
    "        running_loss = 0.0\n",
    "        model.train()\n",
    "        print(\"Starting epoch \" + str(epoch+1))\n",
    "        for (features, labels) in train_loader_2:\n",
    "            # Forward\n",
    "            (features, labels) = (features.to(device), labels.to(device))\n",
    "            Mask=mask(labels)\n",
    "            features = features.reshape(-1, 1, 220).to(device)\n",
    "            labels = labels.reshape(-1, 1, 120).to(device)\n",
    "            Mask = Mask.reshape(-1, 1, 120).to(device)\n",
    "            pred=model2(features.float())\n",
    "            mask_pred=Mask*pred.float()\n",
    "\n",
    "            loss = loss_fuc(mask_pred, labels)\n",
    "            # Backward and optimize\n",
    "            optimizer.zero_grad()\n",
    "            loss.backward()\n",
    "            optimizer.step()\n",
    "            running_loss += loss.item()\n",
    "\n",
    "        avg_train_loss = running_loss / len(train_loader_2)\n",
    "        train_losses.append(avg_train_loss)\n",
    "\n",
    "        val_running_loss = 0.0\n",
    "\n",
    "        # check validation loss after every epoch\n",
    "        with torch.no_grad():\n",
    "            model.eval()\n",
    "            for (features, labels) in valid_loader_2:\n",
    "                (features, labels) = (features.to(device), labels.to(device))\n",
    " \n",
    "                Mask=mask(labels)\n",
    "\n",
    "                features = features.reshape(-1, 1, 220).to(device)\n",
    "                labels = labels.reshape(-1, 1, 120).to(device)\n",
    "                Mask = Mask.reshape(-1, 1, 120).to(device)\n",
    "      \n",
    "                pred=model2(features.float())\n",
    "                mask_pred=Mask*pred.float()\n",
    "\n",
    "                loss = loss_fuc(mask_pred, labels)\n",
    "                val_running_loss += loss.item()\n",
    "        avg_val_loss = val_running_loss / len(valid_loader_2)\n",
    "        val_losses.append(avg_val_loss)\n",
    "\n",
    "        print('Epoch [{}/{}],Train Loss: {:.4f}, Valid Loss: {:.8f}'\n",
    "              .format(epoch+1, num_epochs, avg_train_loss, avg_val_loss))\n",
    "    print(\"Finished Training\")\n",
    "    return train_losses, val_losses\n"
   ]
  },
  {
   "cell_type": "code",
   "execution_count": 30,
   "id": "4ee069fc",
   "metadata": {
    "collapsed": true,
    "scrolled": true
   },
   "outputs": [
    {
     "name": "stdout",
     "output_type": "stream",
     "text": [
      "Starting epoch 1\n",
      "Epoch [1/300],Train Loss: 9.9475, Valid Loss: 12.43447818\n",
      "Starting epoch 2\n",
      "Epoch [2/300],Train Loss: 22.2858, Valid Loss: 6.19352669\n",
      "Starting epoch 3\n",
      "Epoch [3/300],Train Loss: 8.6077, Valid Loss: 4.70536048\n",
      "Starting epoch 4\n",
      "Epoch [4/300],Train Loss: 5.3307, Valid Loss: 3.89313881\n",
      "Starting epoch 5\n",
      "Epoch [5/300],Train Loss: 4.2443, Valid Loss: 2.72622367\n",
      "Starting epoch 6\n",
      "Epoch [6/300],Train Loss: 3.8228, Valid Loss: 2.50780588\n",
      "Starting epoch 7\n",
      "Epoch [7/300],Train Loss: 3.1540, Valid Loss: 2.42404491\n",
      "Starting epoch 8\n",
      "Epoch [8/300],Train Loss: 3.7884, Valid Loss: 2.25765897\n",
      "Starting epoch 9\n",
      "Epoch [9/300],Train Loss: 3.2836, Valid Loss: 2.32788281\n",
      "Starting epoch 10\n",
      "Epoch [10/300],Train Loss: 3.2441, Valid Loss: 2.22231712\n",
      "Starting epoch 11\n",
      "Epoch [11/300],Train Loss: 2.7533, Valid Loss: 2.17774229\n",
      "Starting epoch 12\n",
      "Epoch [12/300],Train Loss: 2.7972, Valid Loss: 2.13604424\n",
      "Starting epoch 13\n",
      "Epoch [13/300],Train Loss: 2.1700, Valid Loss: 2.12009997\n",
      "Starting epoch 14\n",
      "Epoch [14/300],Train Loss: 2.4080, Valid Loss: 2.10924166\n",
      "Starting epoch 15\n",
      "Epoch [15/300],Train Loss: 2.3377, Valid Loss: 2.08101816\n",
      "Starting epoch 16\n",
      "Epoch [16/300],Train Loss: 2.1269, Valid Loss: 2.09300341\n",
      "Starting epoch 17\n",
      "Epoch [17/300],Train Loss: 2.1317, Valid Loss: 2.06616208\n",
      "Starting epoch 18\n",
      "Epoch [18/300],Train Loss: 2.0130, Valid Loss: 1.98964649\n",
      "Starting epoch 19\n",
      "Epoch [19/300],Train Loss: 1.9112, Valid Loss: 2.03967705\n",
      "Starting epoch 20\n",
      "Epoch [20/300],Train Loss: 1.8281, Valid Loss: 2.11462815\n",
      "Starting epoch 21\n",
      "Epoch [21/300],Train Loss: 1.7684, Valid Loss: 2.10138601\n",
      "Starting epoch 22\n",
      "Epoch [22/300],Train Loss: 1.6951, Valid Loss: 2.14922284\n",
      "Starting epoch 23\n",
      "Epoch [23/300],Train Loss: 1.8364, Valid Loss: 2.13897049\n",
      "Starting epoch 24\n",
      "Epoch [24/300],Train Loss: 1.6611, Valid Loss: 2.06983831\n",
      "Starting epoch 25\n",
      "Epoch [25/300],Train Loss: 1.6239, Valid Loss: 2.03694807\n",
      "Starting epoch 26\n",
      "Epoch [26/300],Train Loss: 1.4917, Valid Loss: 1.98237777\n",
      "Starting epoch 27\n",
      "Epoch [27/300],Train Loss: 1.5808, Valid Loss: 2.01693059\n",
      "Starting epoch 28\n",
      "Epoch [28/300],Train Loss: 1.5611, Valid Loss: 2.06210011\n",
      "Starting epoch 29\n",
      "Epoch [29/300],Train Loss: 1.6907, Valid Loss: 2.08701372\n",
      "Starting epoch 30\n",
      "Epoch [30/300],Train Loss: 1.5364, Valid Loss: 2.06338786\n",
      "Starting epoch 31\n",
      "Epoch [31/300],Train Loss: 1.5636, Valid Loss: 1.98134955\n",
      "Starting epoch 32\n",
      "Epoch [32/300],Train Loss: 1.4841, Valid Loss: 2.01249858\n",
      "Starting epoch 33\n",
      "Epoch [33/300],Train Loss: 1.5439, Valid Loss: 1.98736182\n",
      "Starting epoch 34\n",
      "Epoch [34/300],Train Loss: 1.3569, Valid Loss: 2.00068038\n",
      "Starting epoch 35\n",
      "Epoch [35/300],Train Loss: 1.4002, Valid Loss: 1.93559235\n",
      "Starting epoch 36\n",
      "Epoch [36/300],Train Loss: 1.2798, Valid Loss: 1.94370841\n",
      "Starting epoch 37\n",
      "Epoch [37/300],Train Loss: 1.3584, Valid Loss: 1.92413602\n",
      "Starting epoch 38\n",
      "Epoch [38/300],Train Loss: 1.2287, Valid Loss: 1.95366958\n",
      "Starting epoch 39\n",
      "Epoch [39/300],Train Loss: 1.2477, Valid Loss: 1.92987246\n",
      "Starting epoch 40\n",
      "Epoch [40/300],Train Loss: 1.2708, Valid Loss: 1.94205134\n",
      "Starting epoch 41\n",
      "Epoch [41/300],Train Loss: 1.2592, Valid Loss: 1.95581321\n",
      "Starting epoch 42\n",
      "Epoch [42/300],Train Loss: 1.3887, Valid Loss: 1.93854943\n",
      "Starting epoch 43\n",
      "Epoch [43/300],Train Loss: 1.1881, Valid Loss: 1.94776447\n",
      "Starting epoch 44\n",
      "Epoch [44/300],Train Loss: 1.2570, Valid Loss: 1.99488318\n",
      "Starting epoch 45\n",
      "Epoch [45/300],Train Loss: 1.2343, Valid Loss: 2.01482368\n",
      "Starting epoch 46\n",
      "Epoch [46/300],Train Loss: 1.1125, Valid Loss: 2.02370438\n",
      "Starting epoch 47\n",
      "Epoch [47/300],Train Loss: 1.1913, Valid Loss: 2.03035828\n",
      "Starting epoch 48\n",
      "Epoch [48/300],Train Loss: 1.1468, Valid Loss: 2.04390902\n",
      "Starting epoch 49\n",
      "Epoch [49/300],Train Loss: 1.0695, Valid Loss: 2.01986205\n",
      "Starting epoch 50\n",
      "Epoch [50/300],Train Loss: 1.2957, Valid Loss: 2.01538882\n",
      "Starting epoch 51\n",
      "Epoch [51/300],Train Loss: 1.2297, Valid Loss: 2.03156208\n",
      "Starting epoch 52\n",
      "Epoch [52/300],Train Loss: 1.2320, Valid Loss: 2.02723090\n",
      "Starting epoch 53\n",
      "Epoch [53/300],Train Loss: 1.0628, Valid Loss: 1.98152030\n",
      "Starting epoch 54\n",
      "Epoch [54/300],Train Loss: 1.0164, Valid Loss: 1.93598654\n",
      "Starting epoch 55\n",
      "Epoch [55/300],Train Loss: 1.0867, Valid Loss: 1.92958288\n",
      "Starting epoch 56\n",
      "Epoch [56/300],Train Loss: 1.1658, Valid Loss: 1.94122169\n",
      "Starting epoch 57\n",
      "Epoch [57/300],Train Loss: 1.2068, Valid Loss: 1.96161556\n",
      "Starting epoch 58\n",
      "Epoch [58/300],Train Loss: 1.1731, Valid Loss: 2.02506718\n",
      "Starting epoch 59\n",
      "Epoch [59/300],Train Loss: 1.1339, Valid Loss: 2.02644990\n",
      "Starting epoch 60\n",
      "Epoch [60/300],Train Loss: 1.0876, Valid Loss: 2.02044085\n",
      "Starting epoch 61\n",
      "Epoch [61/300],Train Loss: 1.1281, Valid Loss: 2.01922587\n",
      "Starting epoch 62\n",
      "Epoch [62/300],Train Loss: 1.1122, Valid Loss: 2.03828000\n",
      "Starting epoch 63\n",
      "Epoch [63/300],Train Loss: 1.0763, Valid Loss: 2.01068903\n",
      "Starting epoch 64\n",
      "Epoch [64/300],Train Loss: 1.1757, Valid Loss: 2.03185623\n",
      "Starting epoch 65\n",
      "Epoch [65/300],Train Loss: 1.1629, Valid Loss: 2.00972745\n",
      "Starting epoch 66\n",
      "Epoch [66/300],Train Loss: 1.1566, Valid Loss: 2.04274762\n",
      "Starting epoch 67\n",
      "Epoch [67/300],Train Loss: 1.0496, Valid Loss: 2.00991184\n",
      "Starting epoch 68\n",
      "Epoch [68/300],Train Loss: 1.1153, Valid Loss: 1.95319880\n",
      "Starting epoch 69\n",
      "Epoch [69/300],Train Loss: 1.1500, Valid Loss: 1.92714038\n",
      "Starting epoch 70\n",
      "Epoch [70/300],Train Loss: 1.0047, Valid Loss: 1.92743327\n",
      "Starting epoch 71\n",
      "Epoch [71/300],Train Loss: 1.1153, Valid Loss: 1.96739553\n",
      "Starting epoch 72\n",
      "Epoch [72/300],Train Loss: 0.9502, Valid Loss: 1.99905988\n",
      "Starting epoch 73\n",
      "Epoch [73/300],Train Loss: 1.0621, Valid Loss: 1.92538951\n",
      "Starting epoch 74\n",
      "Epoch [74/300],Train Loss: 1.0086, Valid Loss: 1.88528081\n",
      "Starting epoch 75\n",
      "Epoch [75/300],Train Loss: 0.9755, Valid Loss: 1.84120691\n",
      "Starting epoch 76\n",
      "Epoch [76/300],Train Loss: 1.1133, Valid Loss: 1.83124730\n",
      "Starting epoch 77\n",
      "Epoch [77/300],Train Loss: 1.0576, Valid Loss: 1.84697526\n",
      "Starting epoch 78\n",
      "Epoch [78/300],Train Loss: 0.9738, Valid Loss: 1.90032433\n",
      "Starting epoch 79\n",
      "Epoch [79/300],Train Loss: 1.0069, Valid Loss: 1.87452854\n",
      "Starting epoch 80\n",
      "Epoch [80/300],Train Loss: 0.9048, Valid Loss: 1.87406199\n",
      "Starting epoch 81\n",
      "Epoch [81/300],Train Loss: 1.0242, Valid Loss: 1.89557168\n",
      "Starting epoch 82\n",
      "Epoch [82/300],Train Loss: 0.9063, Valid Loss: 1.86199641\n",
      "Starting epoch 83\n",
      "Epoch [83/300],Train Loss: 0.9264, Valid Loss: 1.81598100\n",
      "Starting epoch 84\n",
      "Epoch [84/300],Train Loss: 1.0879, Valid Loss: 1.83244682\n",
      "Starting epoch 85\n",
      "Epoch [85/300],Train Loss: 0.9212, Valid Loss: 1.91851980\n",
      "Starting epoch 86\n",
      "Epoch [86/300],Train Loss: 1.0145, Valid Loss: 1.95245793\n",
      "Starting epoch 87\n",
      "Epoch [87/300],Train Loss: 0.8745, Valid Loss: 1.91174747\n",
      "Starting epoch 88\n",
      "Epoch [88/300],Train Loss: 0.9997, Valid Loss: 1.88916523\n",
      "Starting epoch 89\n",
      "Epoch [89/300],Train Loss: 0.9995, Valid Loss: 1.91130204\n",
      "Starting epoch 90\n",
      "Epoch [90/300],Train Loss: 1.0357, Valid Loss: 1.96605758\n",
      "Starting epoch 91\n",
      "Epoch [91/300],Train Loss: 1.0404, Valid Loss: 1.97494126\n",
      "Starting epoch 92\n",
      "Epoch [92/300],Train Loss: 0.9705, Valid Loss: 1.93440461\n",
      "Starting epoch 93\n",
      "Epoch [93/300],Train Loss: 1.0811, Valid Loss: 1.91328251\n",
      "Starting epoch 94\n",
      "Epoch [94/300],Train Loss: 0.9371, Valid Loss: 1.90850159\n",
      "Starting epoch 95\n",
      "Epoch [95/300],Train Loss: 0.9035, Valid Loss: 1.89964898\n",
      "Starting epoch 96\n",
      "Epoch [96/300],Train Loss: 0.8917, Valid Loss: 1.96997285\n",
      "Starting epoch 97\n",
      "Epoch [97/300],Train Loss: 0.9001, Valid Loss: 1.95664364\n",
      "Starting epoch 98\n",
      "Epoch [98/300],Train Loss: 0.9160, Valid Loss: 1.88091414\n",
      "Starting epoch 99\n",
      "Epoch [99/300],Train Loss: 1.0267, Valid Loss: 1.86572698\n",
      "Starting epoch 100\n",
      "Epoch [100/300],Train Loss: 0.8936, Valid Loss: 1.86139699\n",
      "Starting epoch 101\n",
      "Epoch [101/300],Train Loss: 0.9663, Valid Loss: 1.86899981\n",
      "Starting epoch 102\n",
      "Epoch [102/300],Train Loss: 1.0974, Valid Loss: 1.87757591\n",
      "Starting epoch 103\n",
      "Epoch [103/300],Train Loss: 0.9939, Valid Loss: 1.85787390\n",
      "Starting epoch 104\n",
      "Epoch [104/300],Train Loss: 0.7640, Valid Loss: 1.84771607\n",
      "Starting epoch 105\n",
      "Epoch [105/300],Train Loss: 0.9094, Valid Loss: 1.82816475\n",
      "Starting epoch 106\n",
      "Epoch [106/300],Train Loss: 0.8815, Valid Loss: 1.85871068\n",
      "Starting epoch 107\n",
      "Epoch [107/300],Train Loss: 0.8309, Valid Loss: 1.87515627\n",
      "Starting epoch 108\n",
      "Epoch [108/300],Train Loss: 0.9008, Valid Loss: 1.87400610\n",
      "Starting epoch 109\n"
     ]
    },
    {
     "name": "stdout",
     "output_type": "stream",
     "text": [
      "Epoch [109/300],Train Loss: 0.9780, Valid Loss: 1.88168263\n",
      "Starting epoch 110\n",
      "Epoch [110/300],Train Loss: 0.9455, Valid Loss: 1.85558343\n",
      "Starting epoch 111\n",
      "Epoch [111/300],Train Loss: 0.8475, Valid Loss: 1.85423250\n",
      "Starting epoch 112\n",
      "Epoch [112/300],Train Loss: 0.7960, Valid Loss: 1.88118954\n",
      "Starting epoch 113\n",
      "Epoch [113/300],Train Loss: 0.9199, Valid Loss: 1.89731276\n",
      "Starting epoch 114\n",
      "Epoch [114/300],Train Loss: 0.9774, Valid Loss: 1.91496153\n",
      "Starting epoch 115\n",
      "Epoch [115/300],Train Loss: 0.8169, Valid Loss: 1.90685557\n",
      "Starting epoch 116\n",
      "Epoch [116/300],Train Loss: 0.9020, Valid Loss: 1.92477354\n",
      "Starting epoch 117\n",
      "Epoch [117/300],Train Loss: 0.7392, Valid Loss: 1.96335630\n",
      "Starting epoch 118\n",
      "Epoch [118/300],Train Loss: 0.8128, Valid Loss: 1.95643620\n",
      "Starting epoch 119\n",
      "Epoch [119/300],Train Loss: 0.8899, Valid Loss: 1.93546999\n",
      "Starting epoch 120\n",
      "Epoch [120/300],Train Loss: 0.8786, Valid Loss: 1.93126081\n",
      "Starting epoch 121\n",
      "Epoch [121/300],Train Loss: 0.9504, Valid Loss: 1.92519396\n",
      "Starting epoch 122\n",
      "Epoch [122/300],Train Loss: 0.8435, Valid Loss: 1.89839759\n",
      "Starting epoch 123\n",
      "Epoch [123/300],Train Loss: 0.7876, Valid Loss: 1.88310461\n",
      "Starting epoch 124\n",
      "Epoch [124/300],Train Loss: 0.8119, Valid Loss: 1.85612597\n",
      "Starting epoch 125\n",
      "Epoch [125/300],Train Loss: 0.7976, Valid Loss: 1.84455359\n",
      "Starting epoch 126\n",
      "Epoch [126/300],Train Loss: 0.7717, Valid Loss: 1.89358776\n",
      "Starting epoch 127\n",
      "Epoch [127/300],Train Loss: 0.7588, Valid Loss: 1.95603494\n",
      "Starting epoch 128\n",
      "Epoch [128/300],Train Loss: 0.8556, Valid Loss: 1.94278048\n",
      "Starting epoch 129\n",
      "Epoch [129/300],Train Loss: 0.9206, Valid Loss: 1.92235660\n",
      "Starting epoch 130\n",
      "Epoch [130/300],Train Loss: 0.7709, Valid Loss: 1.90318869\n",
      "Starting epoch 131\n",
      "Epoch [131/300],Train Loss: 0.8217, Valid Loss: 1.89485411\n",
      "Starting epoch 132\n",
      "Epoch [132/300],Train Loss: 0.7430, Valid Loss: 1.89592682\n",
      "Starting epoch 133\n",
      "Epoch [133/300],Train Loss: 0.7374, Valid Loss: 1.88053723\n",
      "Starting epoch 134\n",
      "Epoch [134/300],Train Loss: 0.7058, Valid Loss: 1.84559596\n",
      "Starting epoch 135\n",
      "Epoch [135/300],Train Loss: 0.8938, Valid Loss: 1.83967239\n",
      "Starting epoch 136\n",
      "Epoch [136/300],Train Loss: 0.7939, Valid Loss: 1.83309557\n",
      "Starting epoch 137\n",
      "Epoch [137/300],Train Loss: 0.7686, Valid Loss: 1.83750742\n",
      "Starting epoch 138\n",
      "Epoch [138/300],Train Loss: 0.7487, Valid Loss: 1.85707425\n",
      "Starting epoch 139\n",
      "Epoch [139/300],Train Loss: 0.8597, Valid Loss: 1.86738300\n",
      "Starting epoch 140\n",
      "Epoch [140/300],Train Loss: 0.8611, Valid Loss: 1.82841906\n",
      "Starting epoch 141\n",
      "Epoch [141/300],Train Loss: 0.7729, Valid Loss: 1.81538070\n",
      "Starting epoch 142\n",
      "Epoch [142/300],Train Loss: 0.8253, Valid Loss: 1.80468037\n",
      "Starting epoch 143\n",
      "Epoch [143/300],Train Loss: 0.7574, Valid Loss: 1.85643708\n",
      "Starting epoch 144\n",
      "Epoch [144/300],Train Loss: 0.8144, Valid Loss: 1.85431242\n",
      "Starting epoch 145\n",
      "Epoch [145/300],Train Loss: 0.8451, Valid Loss: 1.82687762\n",
      "Starting epoch 146\n",
      "Epoch [146/300],Train Loss: 0.8763, Valid Loss: 1.82515070\n",
      "Starting epoch 147\n",
      "Epoch [147/300],Train Loss: 0.7848, Valid Loss: 1.83563689\n",
      "Starting epoch 148\n",
      "Epoch [148/300],Train Loss: 0.8435, Valid Loss: 1.82697428\n",
      "Starting epoch 149\n",
      "Epoch [149/300],Train Loss: 0.7991, Valid Loss: 1.80356934\n",
      "Starting epoch 150\n",
      "Epoch [150/300],Train Loss: 0.7207, Valid Loss: 1.78528655\n",
      "Starting epoch 151\n",
      "Epoch [151/300],Train Loss: 0.7172, Valid Loss: 1.77624650\n",
      "Starting epoch 152\n",
      "Epoch [152/300],Train Loss: 0.9151, Valid Loss: 1.78477337\n",
      "Starting epoch 153\n",
      "Epoch [153/300],Train Loss: 0.9438, Valid Loss: 1.76809413\n",
      "Starting epoch 154\n",
      "Epoch [154/300],Train Loss: 0.8372, Valid Loss: 1.76723892\n",
      "Starting epoch 155\n",
      "Epoch [155/300],Train Loss: 0.7890, Valid Loss: 1.76679730\n",
      "Starting epoch 156\n",
      "Epoch [156/300],Train Loss: 0.7882, Valid Loss: 1.77337776\n",
      "Starting epoch 157\n",
      "Epoch [157/300],Train Loss: 0.7180, Valid Loss: 1.76964722\n",
      "Starting epoch 158\n",
      "Epoch [158/300],Train Loss: 0.7331, Valid Loss: 1.78103644\n",
      "Starting epoch 159\n",
      "Epoch [159/300],Train Loss: 0.8406, Valid Loss: 1.81079064\n",
      "Starting epoch 160\n",
      "Epoch [160/300],Train Loss: 0.8623, Valid Loss: 1.82905220\n",
      "Starting epoch 161\n",
      "Epoch [161/300],Train Loss: 0.7812, Valid Loss: 1.85035046\n",
      "Starting epoch 162\n",
      "Epoch [162/300],Train Loss: 0.7693, Valid Loss: 1.84033414\n",
      "Starting epoch 163\n",
      "Epoch [163/300],Train Loss: 0.8070, Valid Loss: 1.80454834\n",
      "Starting epoch 164\n",
      "Epoch [164/300],Train Loss: 0.8022, Valid Loss: 1.81807752\n",
      "Starting epoch 165\n",
      "Epoch [165/300],Train Loss: 0.8107, Valid Loss: 1.84826349\n",
      "Starting epoch 166\n",
      "Epoch [166/300],Train Loss: 0.8227, Valid Loss: 1.83089992\n",
      "Starting epoch 167\n",
      "Epoch [167/300],Train Loss: 0.7250, Valid Loss: 1.85218833\n",
      "Starting epoch 168\n",
      "Epoch [168/300],Train Loss: 0.8193, Valid Loss: 1.85122848\n",
      "Starting epoch 169\n",
      "Epoch [169/300],Train Loss: 0.7410, Valid Loss: 1.83787443\n",
      "Starting epoch 170\n",
      "Epoch [170/300],Train Loss: 0.7866, Valid Loss: 1.83305102\n",
      "Starting epoch 171\n",
      "Epoch [171/300],Train Loss: 0.8328, Valid Loss: 1.83866717\n",
      "Starting epoch 172\n",
      "Epoch [172/300],Train Loss: 0.7182, Valid Loss: 1.85348257\n",
      "Starting epoch 173\n",
      "Epoch [173/300],Train Loss: 0.7804, Valid Loss: 1.85437663\n",
      "Starting epoch 174\n",
      "Epoch [174/300],Train Loss: 0.7742, Valid Loss: 1.85791027\n",
      "Starting epoch 175\n",
      "Epoch [175/300],Train Loss: 0.7219, Valid Loss: 1.89106978\n",
      "Starting epoch 176\n",
      "Epoch [176/300],Train Loss: 0.7493, Valid Loss: 1.89451873\n",
      "Starting epoch 177\n",
      "Epoch [177/300],Train Loss: 0.6486, Valid Loss: 1.88758466\n",
      "Starting epoch 178\n",
      "Epoch [178/300],Train Loss: 0.8002, Valid Loss: 1.87755960\n",
      "Starting epoch 179\n",
      "Epoch [179/300],Train Loss: 0.8226, Valid Loss: 1.84863897\n",
      "Starting epoch 180\n",
      "Epoch [180/300],Train Loss: 0.8083, Valid Loss: 1.90428042\n",
      "Starting epoch 181\n",
      "Epoch [181/300],Train Loss: 0.7975, Valid Loss: 1.90357054\n",
      "Starting epoch 182\n",
      "Epoch [182/300],Train Loss: 0.7654, Valid Loss: 1.86387451\n",
      "Starting epoch 183\n",
      "Epoch [183/300],Train Loss: 0.7593, Valid Loss: 1.86926193\n",
      "Starting epoch 184\n",
      "Epoch [184/300],Train Loss: 0.7279, Valid Loss: 1.83895603\n",
      "Starting epoch 185\n",
      "Epoch [185/300],Train Loss: 0.7033, Valid Loss: 1.84402673\n",
      "Starting epoch 186\n",
      "Epoch [186/300],Train Loss: 0.7470, Valid Loss: 1.89931320\n",
      "Starting epoch 187\n",
      "Epoch [187/300],Train Loss: 0.7923, Valid Loss: 1.90784900\n",
      "Starting epoch 188\n",
      "Epoch [188/300],Train Loss: 0.7730, Valid Loss: 1.84173604\n",
      "Starting epoch 189\n",
      "Epoch [189/300],Train Loss: 0.7238, Valid Loss: 1.83595698\n",
      "Starting epoch 190\n",
      "Epoch [190/300],Train Loss: 0.7935, Valid Loss: 1.82608716\n",
      "Starting epoch 191\n",
      "Epoch [191/300],Train Loss: 0.6916, Valid Loss: 1.83862411\n",
      "Starting epoch 192\n",
      "Epoch [192/300],Train Loss: 0.7057, Valid Loss: 1.86068879\n",
      "Starting epoch 193\n",
      "Epoch [193/300],Train Loss: 0.6952, Valid Loss: 1.86775870\n",
      "Starting epoch 194\n",
      "Epoch [194/300],Train Loss: 0.7755, Valid Loss: 1.85545877\n",
      "Starting epoch 195\n",
      "Epoch [195/300],Train Loss: 0.7000, Valid Loss: 1.86562475\n",
      "Starting epoch 196\n",
      "Epoch [196/300],Train Loss: 0.7237, Valid Loss: 1.81840402\n",
      "Starting epoch 197\n",
      "Epoch [197/300],Train Loss: 0.6534, Valid Loss: 1.81581863\n",
      "Starting epoch 198\n",
      "Epoch [198/300],Train Loss: 0.7642, Valid Loss: 1.83941077\n",
      "Starting epoch 199\n",
      "Epoch [199/300],Train Loss: 0.7368, Valid Loss: 1.84389692\n",
      "Starting epoch 200\n",
      "Epoch [200/300],Train Loss: 0.7773, Valid Loss: 1.85468280\n",
      "Starting epoch 201\n",
      "Epoch [201/300],Train Loss: 0.6938, Valid Loss: 1.86780161\n",
      "Starting epoch 202\n",
      "Epoch [202/300],Train Loss: 0.7712, Valid Loss: 1.87182538\n",
      "Starting epoch 203\n",
      "Epoch [203/300],Train Loss: 0.7537, Valid Loss: 1.87061114\n",
      "Starting epoch 204\n",
      "Epoch [204/300],Train Loss: 0.7813, Valid Loss: 1.89143733\n",
      "Starting epoch 205\n",
      "Epoch [205/300],Train Loss: 0.8455, Valid Loss: 1.91131571\n",
      "Starting epoch 206\n",
      "Epoch [206/300],Train Loss: 0.6584, Valid Loss: 1.90021962\n",
      "Starting epoch 207\n",
      "Epoch [207/300],Train Loss: 0.6726, Valid Loss: 1.90851410\n",
      "Starting epoch 208\n",
      "Epoch [208/300],Train Loss: 0.7878, Valid Loss: 1.92079598\n",
      "Starting epoch 209\n",
      "Epoch [209/300],Train Loss: 0.6631, Valid Loss: 1.93881409\n",
      "Starting epoch 210\n",
      "Epoch [210/300],Train Loss: 0.7067, Valid Loss: 1.92628789\n",
      "Starting epoch 211\n",
      "Epoch [211/300],Train Loss: 0.8463, Valid Loss: 1.91285512\n",
      "Starting epoch 212\n",
      "Epoch [212/300],Train Loss: 0.7649, Valid Loss: 1.88747486\n",
      "Starting epoch 213\n",
      "Epoch [213/300],Train Loss: 0.6958, Valid Loss: 1.87968172\n",
      "Starting epoch 214\n",
      "Epoch [214/300],Train Loss: 0.6532, Valid Loss: 1.85825867\n",
      "Starting epoch 215\n"
     ]
    },
    {
     "name": "stdout",
     "output_type": "stream",
     "text": [
      "Epoch [215/300],Train Loss: 0.7424, Valid Loss: 1.85667284\n",
      "Starting epoch 216\n",
      "Epoch [216/300],Train Loss: 0.8373, Valid Loss: 1.87360605\n",
      "Starting epoch 217\n",
      "Epoch [217/300],Train Loss: 0.7788, Valid Loss: 1.89012487\n",
      "Starting epoch 218\n",
      "Epoch [218/300],Train Loss: 0.7456, Valid Loss: 1.87010023\n",
      "Starting epoch 219\n",
      "Epoch [219/300],Train Loss: 0.7638, Valid Loss: 1.85718675\n",
      "Starting epoch 220\n",
      "Epoch [220/300],Train Loss: 0.7065, Valid Loss: 1.84919466\n",
      "Starting epoch 221\n",
      "Epoch [221/300],Train Loss: 0.6910, Valid Loss: 1.85559196\n",
      "Starting epoch 222\n",
      "Epoch [222/300],Train Loss: 0.6514, Valid Loss: 1.86247774\n",
      "Starting epoch 223\n",
      "Epoch [223/300],Train Loss: 0.7420, Valid Loss: 1.87470629\n",
      "Starting epoch 224\n",
      "Epoch [224/300],Train Loss: 0.6659, Valid Loss: 1.86418712\n",
      "Starting epoch 225\n",
      "Epoch [225/300],Train Loss: 0.7852, Valid Loss: 1.85334023\n",
      "Starting epoch 226\n",
      "Epoch [226/300],Train Loss: 0.6822, Valid Loss: 1.85410607\n",
      "Starting epoch 227\n",
      "Epoch [227/300],Train Loss: 0.7260, Valid Loss: 1.86340403\n",
      "Starting epoch 228\n",
      "Epoch [228/300],Train Loss: 0.6971, Valid Loss: 1.85867627\n",
      "Starting epoch 229\n",
      "Epoch [229/300],Train Loss: 0.6474, Valid Loss: 1.88242932\n",
      "Starting epoch 230\n",
      "Epoch [230/300],Train Loss: 0.6232, Valid Loss: 1.88333496\n",
      "Starting epoch 231\n",
      "Epoch [231/300],Train Loss: 0.6444, Valid Loss: 1.87233487\n",
      "Starting epoch 232\n",
      "Epoch [232/300],Train Loss: 0.6654, Valid Loss: 1.86180347\n",
      "Starting epoch 233\n",
      "Epoch [233/300],Train Loss: 0.7074, Valid Loss: 1.86979154\n",
      "Starting epoch 234\n",
      "Epoch [234/300],Train Loss: 0.6156, Valid Loss: 1.88435268\n",
      "Starting epoch 235\n",
      "Epoch [235/300],Train Loss: 0.6371, Valid Loss: 1.88714327\n",
      "Starting epoch 236\n",
      "Epoch [236/300],Train Loss: 0.6867, Valid Loss: 1.88174952\n",
      "Starting epoch 237\n",
      "Epoch [237/300],Train Loss: 0.6513, Valid Loss: 1.87276307\n",
      "Starting epoch 238\n",
      "Epoch [238/300],Train Loss: 0.6532, Valid Loss: 1.85564852\n",
      "Starting epoch 239\n",
      "Epoch [239/300],Train Loss: 0.6955, Valid Loss: 1.85084599\n",
      "Starting epoch 240\n",
      "Epoch [240/300],Train Loss: 0.6947, Valid Loss: 1.85753721\n",
      "Starting epoch 241\n",
      "Epoch [241/300],Train Loss: 0.7012, Valid Loss: 1.87353320\n",
      "Starting epoch 242\n",
      "Epoch [242/300],Train Loss: 0.6552, Valid Loss: 1.87989987\n",
      "Starting epoch 243\n",
      "Epoch [243/300],Train Loss: 0.6676, Valid Loss: 1.85540871\n",
      "Starting epoch 244\n",
      "Epoch [244/300],Train Loss: 0.6915, Valid Loss: 1.82929370\n",
      "Starting epoch 245\n",
      "Epoch [245/300],Train Loss: 0.6229, Valid Loss: 1.83566160\n",
      "Starting epoch 246\n",
      "Epoch [246/300],Train Loss: 0.6635, Valid Loss: 1.85081883\n",
      "Starting epoch 247\n",
      "Epoch [247/300],Train Loss: 0.6596, Valid Loss: 1.85323059\n",
      "Starting epoch 248\n",
      "Epoch [248/300],Train Loss: 0.7152, Valid Loss: 1.87104794\n",
      "Starting epoch 249\n",
      "Epoch [249/300],Train Loss: 0.6576, Valid Loss: 1.86132646\n",
      "Starting epoch 250\n",
      "Epoch [250/300],Train Loss: 0.6916, Valid Loss: 1.86019227\n",
      "Starting epoch 251\n",
      "Epoch [251/300],Train Loss: 0.6519, Valid Loss: 1.89742319\n",
      "Starting epoch 252\n",
      "Epoch [252/300],Train Loss: 0.6655, Valid Loss: 1.90589288\n",
      "Starting epoch 253\n",
      "Epoch [253/300],Train Loss: 0.7318, Valid Loss: 1.90220964\n",
      "Starting epoch 254\n",
      "Epoch [254/300],Train Loss: 0.7272, Valid Loss: 1.90356135\n",
      "Starting epoch 255\n",
      "Epoch [255/300],Train Loss: 0.6153, Valid Loss: 1.88255727\n",
      "Starting epoch 256\n",
      "Epoch [256/300],Train Loss: 0.8389, Valid Loss: 1.86785388\n",
      "Starting epoch 257\n",
      "Epoch [257/300],Train Loss: 0.5836, Valid Loss: 1.87004230\n",
      "Starting epoch 258\n",
      "Epoch [258/300],Train Loss: 0.6471, Valid Loss: 1.87910777\n",
      "Starting epoch 259\n",
      "Epoch [259/300],Train Loss: 0.5725, Valid Loss: 1.89596392\n",
      "Starting epoch 260\n",
      "Epoch [260/300],Train Loss: 0.7683, Valid Loss: 1.88629319\n",
      "Starting epoch 261\n",
      "Epoch [261/300],Train Loss: 0.6977, Valid Loss: 1.84864718\n",
      "Starting epoch 262\n",
      "Epoch [262/300],Train Loss: 0.7627, Valid Loss: 1.81800296\n",
      "Starting epoch 263\n",
      "Epoch [263/300],Train Loss: 0.6653, Valid Loss: 1.83704308\n",
      "Starting epoch 264\n",
      "Epoch [264/300],Train Loss: 0.5968, Valid Loss: 1.86097106\n",
      "Starting epoch 265\n",
      "Epoch [265/300],Train Loss: 0.6528, Valid Loss: 1.85230321\n",
      "Starting epoch 266\n",
      "Epoch [266/300],Train Loss: 0.7038, Valid Loss: 1.84634187\n",
      "Starting epoch 267\n",
      "Epoch [267/300],Train Loss: 0.7025, Valid Loss: 1.85164125\n",
      "Starting epoch 268\n",
      "Epoch [268/300],Train Loss: 0.6700, Valid Loss: 1.86617067\n",
      "Starting epoch 269\n",
      "Epoch [269/300],Train Loss: 0.6653, Valid Loss: 1.87751088\n",
      "Starting epoch 270\n",
      "Epoch [270/300],Train Loss: 0.7147, Valid Loss: 1.88155906\n",
      "Starting epoch 271\n",
      "Epoch [271/300],Train Loss: 0.6574, Valid Loss: 1.88865222\n",
      "Starting epoch 272\n",
      "Epoch [272/300],Train Loss: 0.6362, Valid Loss: 1.90334584\n",
      "Starting epoch 273\n",
      "Epoch [273/300],Train Loss: 0.7067, Valid Loss: 1.92209731\n",
      "Starting epoch 274\n",
      "Epoch [274/300],Train Loss: 0.6888, Valid Loss: 1.93399054\n",
      "Starting epoch 275\n",
      "Epoch [275/300],Train Loss: 0.7637, Valid Loss: 1.90275323\n",
      "Starting epoch 276\n",
      "Epoch [276/300],Train Loss: 0.6955, Valid Loss: 1.89928165\n",
      "Starting epoch 277\n",
      "Epoch [277/300],Train Loss: 0.6494, Valid Loss: 1.88074738\n",
      "Starting epoch 278\n",
      "Epoch [278/300],Train Loss: 0.6838, Valid Loss: 1.86193702\n",
      "Starting epoch 279\n",
      "Epoch [279/300],Train Loss: 0.6971, Valid Loss: 1.85624597\n",
      "Starting epoch 280\n",
      "Epoch [280/300],Train Loss: 0.6693, Valid Loss: 1.84470209\n",
      "Starting epoch 281\n",
      "Epoch [281/300],Train Loss: 0.6635, Valid Loss: 1.85106732\n",
      "Starting epoch 282\n",
      "Epoch [282/300],Train Loss: 0.6896, Valid Loss: 1.88841919\n",
      "Starting epoch 283\n",
      "Epoch [283/300],Train Loss: 0.6888, Valid Loss: 1.89638209\n",
      "Starting epoch 284\n",
      "Epoch [284/300],Train Loss: 0.7408, Valid Loss: 1.86915749\n",
      "Starting epoch 285\n",
      "Epoch [285/300],Train Loss: 0.6635, Valid Loss: 1.89819849\n",
      "Starting epoch 286\n",
      "Epoch [286/300],Train Loss: 0.6117, Valid Loss: 1.89572723\n",
      "Starting epoch 287\n",
      "Epoch [287/300],Train Loss: 0.6260, Valid Loss: 1.88947582\n",
      "Starting epoch 288\n",
      "Epoch [288/300],Train Loss: 0.6236, Valid Loss: 1.91927379\n",
      "Starting epoch 289\n",
      "Epoch [289/300],Train Loss: 0.6334, Valid Loss: 1.91870396\n",
      "Starting epoch 290\n",
      "Epoch [290/300],Train Loss: 0.6709, Valid Loss: 1.88086289\n",
      "Starting epoch 291\n",
      "Epoch [291/300],Train Loss: 0.7048, Valid Loss: 1.87152210\n",
      "Starting epoch 292\n",
      "Epoch [292/300],Train Loss: 0.7267, Valid Loss: 1.87449984\n",
      "Starting epoch 293\n",
      "Epoch [293/300],Train Loss: 0.6106, Valid Loss: 1.88378305\n",
      "Starting epoch 294\n",
      "Epoch [294/300],Train Loss: 0.5898, Valid Loss: 1.92375517\n",
      "Starting epoch 295\n",
      "Epoch [295/300],Train Loss: 0.5964, Valid Loss: 1.91808784\n",
      "Starting epoch 296\n",
      "Epoch [296/300],Train Loss: 0.7481, Valid Loss: 1.88651128\n",
      "Starting epoch 297\n",
      "Epoch [297/300],Train Loss: 0.6032, Valid Loss: 1.85182375\n",
      "Starting epoch 298\n",
      "Epoch [298/300],Train Loss: 0.6183, Valid Loss: 1.83365765\n",
      "Starting epoch 299\n",
      "Epoch [299/300],Train Loss: 0.7143, Valid Loss: 1.83781930\n",
      "Starting epoch 300\n",
      "Epoch [300/300],Train Loss: 0.6415, Valid Loss: 1.85258132\n",
      "Finished Training\n"
     ]
    }
   ],
   "source": [
    "model2= Mynetwork_2().to(device)\n",
    "Loss= nn.MSELoss()\n",
    "epoches=300\n",
    "# Loss= nn.HuberLoss()\n",
    "optimizer = torch.optim.Adam(model2.parameters(), lr=0.1)\n",
    "train_losses_2,val_losses_2=train2(model=model2,num_epochs=epoches,loss_fuc=Loss,Batchsize=120)"
   ]
  },
  {
   "cell_type": "code",
   "execution_count": 106,
   "id": "1d38f46a",
   "metadata": {
    "collapsed": true,
    "scrolled": true
   },
   "outputs": [
    {
     "data": {
      "image/png": "[encoded data removed]",
      "text/plain": [
       "<Figure size 432x288 with 1 Axes>"
      ]
     },
     "metadata": {
      "needs_background": "light"
     },
     "output_type": "display_data"
    }
   ],
   "source": [
    "plot_loss(train_loss=train_losses_2,val_loss=val_losses_2,epoche=epoches)"
   ]
  },
  {
   "cell_type": "markdown",
   "id": "c87278a2",
   "metadata": {},
   "source": [
    "## Evaluation"
   ]
  },
  {
   "cell_type": "code",
   "execution_count": 273,
   "id": "71642583",
   "metadata": {
    "scrolled": false
   },
   "outputs": [],
   "source": [
    "\n",
    "def evaluate2_with_mask(dataset):\n",
    "    test_dataset_data=dataset.data\n",
    "    test_dataset_targets=dataset.targets\n",
    "    pad = nn.ZeroPad2d(padding=(0,2,0,0))\n",
    "    pad_targets=pad(test_dataset_targets)\n",
    "    Mask=mask(pad_targets).reshape(-1,1,120)\n",
    "    feature=dataset.data.reshape(-1,1,220)\n",
    "    label=pad_targets.reshape(-1,1,120)\n",
    "    pred=model2(feature.float())\n",
    "    mask_pred=Mask*pred\n",
    "    torch.unsqueeze(mask_pred,0)\n",
    "    test_loss=[]\n",
    "    for i in range(len(test_dataset_data)):\n",
    "        test_loss.append(Loss(label[i],mask_pred[i]).tolist())\n",
    "    return np.mean(test_loss),mask_pred\n",
    "\n",
    "\n"
   ]
  },
  {
   "cell_type": "code",
   "execution_count": 269,
   "id": "3e80645c",
   "metadata": {
    "scrolled": false
   },
   "outputs": [],
   "source": [
    "def evaluate2_without_mask(dataset):\n",
    "    test_dataset_data=dataset.data\n",
    "    test_dataset_targets=dataset.targets\n",
    "    pad = nn.ZeroPad2d(padding=(0,2,0,0))\n",
    "    pad_targets=pad(test_dataset_targets)\n",
    "    feature=dataset.data.reshape(-1,1,220)\n",
    "    label=pad_targets.reshape(-1,1,120)\n",
    "    pred=model2(feature.float())\n",
    "    torch.unsqueeze(pred,0)\n",
    "    test_loss=[]\n",
    "    for i in range(len(test_dataset_data)):\n",
    "        test_loss.append(Loss(label[i],pred[i]).tolist())\n",
    "    return np.mean(test_loss),pred\n"
   ]
  },
  {
   "cell_type": "code",
   "execution_count": 274,
   "id": "22b58ba1",
   "metadata": {
    "scrolled": true
   },
   "outputs": [
    {
     "name": "stdout",
     "output_type": "stream",
     "text": [
      "1.5272502190783366\n"
     ]
    }
   ],
   "source": [
    "test_loss,mask_pred = evaluate2_with_mask(test_dataset_2)\n",
    "print(test_loss)"
   ]
  },
  {
   "cell_type": "code",
   "execution_count": 243,
   "id": "8181a28f",
   "metadata": {
    "scrolled": true
   },
   "outputs": [
    {
     "name": "stdout",
     "output_type": "stream",
     "text": [
      "2.092748996320609\n"
     ]
    }
   ],
   "source": [
    "test_loss,pred = evaluate2_without_mask(test_dataset_2)\n",
    "print(test_loss)"
   ]
  },
  {
   "cell_type": "code",
   "execution_count": 244,
   "id": "962c6112",
   "metadata": {
    "scrolled": true
   },
   "outputs": [],
   "source": [
    "def plot_pre(index,dataset,pred):\n",
    "    train_list=[]\n",
    "    for i in dataset.data[index].detach().numpy():\n",
    "        if i !=0 :\n",
    "            train_list.append(i)\n",
    "    train_array= np.zeros([int(len(train_list)/2),2], dtype = float)\n",
    "    for i in range(int(len(train_list)/2)):\n",
    "        train_array[i] = [train_list[i],train_list[i+int(len(train_list)/2)]] \n",
    "\n",
    "    continous_list = list(pred.detach().numpy()[index][0])\n",
    "    continous_array= np.zeros([int(len(continous_list)/2),2], dtype = float)\n",
    "    for i in range(int(len(continous_list)/2)):\n",
    "        continous_array[i] = [continous_list[i],continous_list[i+int(len(continous_list)/2)]] \n",
    "        \n",
    "    plot_example(train_array, continous_array)"
   ]
  },
  {
   "cell_type": "code",
   "execution_count": 320,
   "id": "37d12d99",
   "metadata": {
    "scrolled": false
   },
   "outputs": [
    {
     "data": {
      "image/png": "[encoded data removed]",
      "text/plain": [
       "<Figure size 360x360 with 1 Axes>"
      ]
     },
     "metadata": {
      "needs_background": "light"
     },
     "output_type": "display_data"
    },
    {
     "data": {
      "image/png": "[encoded data removed]",
      "text/plain": [
       "<Figure size 360x360 with 1 Axes>"
      ]
     },
     "metadata": {
      "needs_background": "light"
     },
     "output_type": "display_data"
    },
    {
     "data": {
      "image/png": "[encoded data removed]",
      "text/plain": [
       "<Figure size 360x360 with 1 Axes>"
      ]
     },
     "metadata": {
      "needs_background": "light"
     },
     "output_type": "display_data"
    },
    {
     "data": {
      "image/png": "[encoded data removed]",
      "text/plain": [
       "<Figure size 360x360 with 1 Axes>"
      ]
     },
     "metadata": {
      "needs_background": "light"
     },
     "output_type": "display_data"
    },
    {
     "data": {
      "image/png": "[encoded data removed]",
      "text/plain": [
       "<Figure size 360x360 with 1 Axes>"
      ]
     },
     "metadata": {
      "needs_background": "light"
     },
     "output_type": "display_data"
    },
    {
     "data": {
      "image/png": "[encoded data removed]",
      "text/plain": [
       "<Figure size 360x360 with 1 Axes>"
      ]
     },
     "metadata": {
      "needs_background": "light"
     },
     "output_type": "display_data"
    },
    {
     "data": {
      "image/png": "[encoded data removed]",
      "text/plain": [
       "<Figure size 360x360 with 1 Axes>"
      ]
     },
     "metadata": {
      "needs_background": "light"
     },
     "output_type": "display_data"
    },
    {
     "data": {
      "image/png": "[encoded data removed]",
      "text/plain": [
       "<Figure size 360x360 with 1 Axes>"
      ]
     },
     "metadata": {
      "needs_background": "light"
     },
     "output_type": "display_data"
    },
    {
     "data": {
      "image/png": "[encoded data removed]",
      "text/plain": [
       "<Figure size 360x360 with 1 Axes>"
      ]
     },
     "metadata": {
      "needs_background": "light"
     },
     "output_type": "display_data"
    },
    {
     "data": {
      "image/png": "[encoded data removed]",
      "text/plain": [
       "<Figure size 360x360 with 1 Axes>"
      ]
     },
     "metadata": {
      "needs_background": "light"
     },
     "output_type": "display_data"
    }
   ],
   "source": [
    "for i in range(10):\n",
    "    plot_pre(random.randint(0,99),test_dataset_2,mask_pred)"
   ]
  },
  {
   "cell_type": "code",
   "execution_count": 314,
   "id": "0d7f5829",
   "metadata": {
    "scrolled": true
   },
   "outputs": [],
   "source": [
    "def cosine_similarity(x,y):\n",
    "    num = x.dot(y.T)\n",
    "    denom = np.linalg.norm(x) * np.linalg.norm(y)\n",
    "    return num / denom\n",
    "\n",
    "def evaluate(test_dataset_2,pred):\n",
    "    similarity = []\n",
    "    RMSE = []\n",
    "    for i in range(100):\n",
    "        x = np.delete(pred[i][0].detach().numpy(), 119)\n",
    "        x = np.delete(x,118)\n",
    "        y = test_dataset_2.targets[i].detach().numpy()\n",
    "        similarity.append(cosine_similarity(x,y))\n",
    "        diff = np.subtract(x,y)\n",
    "        square = np.square(diff)\n",
    "        RMSE.append(np.sqrt(square))\n",
    "    res = list(map(abs,similarity))\n",
    "    print('rmse:',sum(sum(RMSE)/len(RMSE))/100)\n",
    "    print('similarity:',sum(res)/len(res))"
   ]
  },
  {
   "cell_type": "code",
   "execution_count": 315,
   "id": "1f36642b",
   "metadata": {
    "scrolled": true
   },
   "outputs": [
    {
     "name": "stdout",
     "output_type": "stream",
     "text": [
      "rmse: 0.9322418255589944\n",
      "similarity: 0.518954784907589\n"
     ]
    }
   ],
   "source": [
    "evaluate(test_dataset_2,mask_pred)\n"
   ]
  },
  {
   "cell_type": "code",
   "execution_count": 316,
   "id": "329f527a",
   "metadata": {
    "scrolled": true
   },
   "outputs": [
    {
     "name": "stdout",
     "output_type": "stream",
     "text": [
      "rmse: 1.3328450080968486\n",
      "similarity: 0.38761215764318097\n"
     ]
    }
   ],
   "source": [
    "evaluate(test_dataset_2,pred)"
   ]
  }
 ],
 "metadata": {
  "kernelspec": {
   "display_name": "Python 3 (ipykernel)",
   "language": "python",
   "name": "python3"
  },
  "language_info": {
   "codemirror_mode": {
    "name": "ipython",
    "version": 3
   },
   "file_extension": ".py",
   "mimetype": "text/x-python",
   "name": "python",
   "nbconvert_exporter": "python",
   "pygments_lexer": "ipython3",
   "version": "3.9.7"
  },
  "vscode": {
   "interpreter": {
    "hash": "d0555de903002cdf4a46050f793c94d982502fe7f47d0d08f577f35cd716562b"
   }
  }
 },
 "nbformat": 4,
 "nbformat_minor": 5
}
